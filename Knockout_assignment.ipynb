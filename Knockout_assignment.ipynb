{
  "nbformat": 4,
  "nbformat_minor": 0,
  "metadata": {
    "colab": {
      "provenance": []
    },
    "kernelspec": {
      "name": "python3",
      "display_name": "Python 3"
    },
    "language_info": {
      "name": "python"
    }
  },
  "cells": [
    {
      "cell_type": "code",
      "source": [
        "#importing np and pd\n",
        "import numpy as np\n",
        "import pandas as pd\n"
      ],
      "metadata": {
        "id": "zU3cZiUaZ90f"
      },
      "execution_count": 7,
      "outputs": []
    },
    {
      "cell_type": "code",
      "execution_count": 8,
      "metadata": {
        "colab": {
          "base_uri": "https://localhost:8080/"
        },
        "id": "1QqUPXQpZcsQ",
        "outputId": "ff5d21e5-f2d4-418c-cd92-9e5ae16f468e"
      },
      "outputs": [
        {
          "output_type": "execute_result",
          "data": {
            "text/plain": [
              "array([ 4639, 16119,  7984, 15796,  8740,  4690,  9323, 18573,  7285,\n",
              "       16505,  4426,  4324,  7683,  7395, 11617, 19894,  7953,  7947,\n",
              "        9902, 19077, 10676,  4328, 18358, 11015, 17422, 13959,  7184,\n",
              "        8404, 17705, 13298,  9949, 12679, 13178,  6666,  7134, 18973,\n",
              "        5966, 12959,  4092, 11232, 10605, 19972,  5153,  4273,  7865,\n",
              "       17560,  6277, 11330, 11542, 19440,  7765,  5739,  8578, 17401,\n",
              "       14569, 17902,  4064,  5984, 12913, 11643, 19684, 15514,  6745,\n",
              "        6389,  7427, 18806, 13065, 16516, 11854,  5035, 18432, 18120,\n",
              "       13995,  9402, 17354, 14577, 11031,  9796, 15022, 16550,  9978,\n",
              "       19088, 15876, 18454, 16910, 13705, 16175,  8284,  8321, 12436,\n",
              "       19620,  4797,  6940, 11804, 19007,  9761, 13586,  5366, 18998,\n",
              "       17405,  9920, 19522,  8485, 17155,  7235, 18275, 16330,  7556,\n",
              "       16895,  7155, 17310,  4880,  7181,  7585,  6136, 16748, 17644,\n",
              "        8068, 18581, 19709])"
            ]
          },
          "metadata": {},
          "execution_count": 8
        }
      ],
      "source": [
        "price_houses = np.random.randint(4000, 20000, size=120)\n",
        "price_houses"
      ]
    },
    {
      "cell_type": "code",
      "execution_count": 9,
      "metadata": {
        "colab": {
          "base_uri": "https://localhost:8080/"
        },
        "id": "FCih4Q2HHFKB",
        "outputId": "3b562230-8c0a-4cb2-bc95-bd379abfeda2"
      },
      "outputs": [
        {
          "output_type": "execute_result",
          "data": {
            "text/plain": [
              "0       4639\n",
              "1      16119\n",
              "2       7984\n",
              "3      15796\n",
              "4       8740\n",
              "       ...  \n",
              "115    16748\n",
              "116    17644\n",
              "117     8068\n",
              "118    18581\n",
              "119    19709\n",
              "Name: Prices, Length: 120, dtype: int64"
            ]
          },
          "metadata": {},
          "execution_count": 9
        }
      ],
      "source": [
        "# create a series\n",
        "numbers= pd.Series(price_houses , name=\"Prices\")\n",
        "numbers"
      ]
    },
    {
      "cell_type": "code",
      "source": [
        "#display first 7\n",
        "numbers.head(7)\n"
      ],
      "metadata": {
        "colab": {
          "base_uri": "https://localhost:8080/"
        },
        "id": "qj0QWJxObKzw",
        "outputId": "df3be583-443c-4ebe-e1d6-8ec23edce3c1"
      },
      "execution_count": 10,
      "outputs": [
        {
          "output_type": "execute_result",
          "data": {
            "text/plain": [
              "0     4639\n",
              "1    16119\n",
              "2     7984\n",
              "3    15796\n",
              "4     8740\n",
              "5     4690\n",
              "6     9323\n",
              "Name: Prices, dtype: int64"
            ]
          },
          "metadata": {},
          "execution_count": 10
        }
      ]
    },
    {
      "cell_type": "code",
      "source": [
        "#display tail 7\n",
        "numbers.tail(7)"
      ],
      "metadata": {
        "colab": {
          "base_uri": "https://localhost:8080/"
        },
        "id": "gE9NCN9AcB8s",
        "outputId": "a13dfb9d-1776-461b-a22c-50b146695889"
      },
      "execution_count": 11,
      "outputs": [
        {
          "output_type": "execute_result",
          "data": {
            "text/plain": [
              "113     7585\n",
              "114     6136\n",
              "115    16748\n",
              "116    17644\n",
              "117     8068\n",
              "118    18581\n",
              "119    19709\n",
              "Name: Prices, dtype: int64"
            ]
          },
          "metadata": {},
          "execution_count": 11
        }
      ]
    },
    {
      "cell_type": "code",
      "source": [
        "#creating a fuction that returns prices of a housing\n",
        "def house_categories(price):\n",
        "    if price >15000:\n",
        "        return \"Leafy Surburb\"\n",
        "    elif (price>5000) and (price<=15000):\n",
        "        return \"Middle class\"\n",
        "    else:\n",
        "        return \"Lower class\"\n",
        "\n",
        "house_categories(15500)\n"
      ],
      "metadata": {
        "colab": {
          "base_uri": "https://localhost:8080/",
          "height": 35
        },
        "id": "cvxym8fKcXla",
        "outputId": "63b2c47b-8cc8-4e6d-86cc-032f5c3fcd0f"
      },
      "execution_count": 12,
      "outputs": [
        {
          "output_type": "execute_result",
          "data": {
            "text/plain": [
              "'Leafy Surburb'"
            ],
            "application/vnd.google.colaboratory.intrinsic+json": {
              "type": "string"
            }
          },
          "metadata": {},
          "execution_count": 12
        }
      ]
    },
    {
      "cell_type": "code",
      "source": [
        "# applying the function to series\n",
        "housing_categories= pd.Series(price_houses).apply(house_categories)\n",
        "housing_categories"
      ],
      "metadata": {
        "colab": {
          "base_uri": "https://localhost:8080/"
        },
        "id": "K9ybLBoujBq7",
        "outputId": "d0bdd065-bd44-4667-c216-57ec25d738b9"
      },
      "execution_count": 13,
      "outputs": [
        {
          "output_type": "execute_result",
          "data": {
            "text/plain": [
              "0        Lower class\n",
              "1      Leafy Surburb\n",
              "2       Middle class\n",
              "3      Leafy Surburb\n",
              "4       Middle class\n",
              "           ...      \n",
              "115    Leafy Surburb\n",
              "116    Leafy Surburb\n",
              "117     Middle class\n",
              "118    Leafy Surburb\n",
              "119    Leafy Surburb\n",
              "Length: 120, dtype: object"
            ]
          },
          "metadata": {},
          "execution_count": 13
        }
      ]
    },
    {
      "cell_type": "code",
      "source": [
        "#applying the 10% increament\n",
        "house_levy=pd.Series(price_houses).apply(lambda price:price*1.10)\n",
        "house_levy"
      ],
      "metadata": {
        "colab": {
          "base_uri": "https://localhost:8080/"
        },
        "id": "T-WwfafTkJuu",
        "outputId": "c2b924ca-19cc-4d18-b458-f4159b2088ec"
      },
      "execution_count": 14,
      "outputs": [
        {
          "output_type": "execute_result",
          "data": {
            "text/plain": [
              "0       5102.9\n",
              "1      17730.9\n",
              "2       8782.4\n",
              "3      17375.6\n",
              "4       9614.0\n",
              "        ...   \n",
              "115    18422.8\n",
              "116    19408.4\n",
              "117     8874.8\n",
              "118    20439.1\n",
              "119    21679.9\n",
              "Length: 120, dtype: float64"
            ]
          },
          "metadata": {},
          "execution_count": 14
        }
      ]
    },
    {
      "cell_type": "code",
      "source": [
        "# Icreasing price by addittional garbage of 250\n",
        "house_levy_garbage =house_levy.apply(lambda price:price+250)\n",
        "house_levy_garbage"
      ],
      "metadata": {
        "colab": {
          "base_uri": "https://localhost:8080/"
        },
        "id": "MsPcfKBIl-pN",
        "outputId": "e66ca299-1deb-44ce-d48d-da2c88f779c4"
      },
      "execution_count": 15,
      "outputs": [
        {
          "output_type": "execute_result",
          "data": {
            "text/plain": [
              "0       5352.9\n",
              "1      17980.9\n",
              "2       9032.4\n",
              "3      17625.6\n",
              "4       9864.0\n",
              "        ...   \n",
              "115    18672.8\n",
              "116    19658.4\n",
              "117     9124.8\n",
              "118    20689.1\n",
              "119    21929.9\n",
              "Length: 120, dtype: float64"
            ]
          },
          "metadata": {},
          "execution_count": 15
        }
      ]
    },
    {
      "cell_type": "code",
      "source": [
        "namings = { \"h_prices\" : numbers,\n",
        "        \"H_categories\" : housing_categories,\n",
        "        \"H-levy\" : house_levy,\n",
        "        \"H_garbage\" : house_levy_garbage\n",
        "\n",
        "\n",
        "}\n",
        "namings"
      ],
      "metadata": {
        "colab": {
          "base_uri": "https://localhost:8080/"
        },
        "id": "V0w7VNRDpU29",
        "outputId": "83bc89ca-76db-4a5a-aea9-285f8d43d14f"
      },
      "execution_count": 16,
      "outputs": [
        {
          "output_type": "execute_result",
          "data": {
            "text/plain": [
              "{'h_prices': 0       4639\n",
              " 1      16119\n",
              " 2       7984\n",
              " 3      15796\n",
              " 4       8740\n",
              "        ...  \n",
              " 115    16748\n",
              " 116    17644\n",
              " 117     8068\n",
              " 118    18581\n",
              " 119    19709\n",
              " Name: Prices, Length: 120, dtype: int64,\n",
              " 'H_categories': 0        Lower class\n",
              " 1      Leafy Surburb\n",
              " 2       Middle class\n",
              " 3      Leafy Surburb\n",
              " 4       Middle class\n",
              "            ...      \n",
              " 115    Leafy Surburb\n",
              " 116    Leafy Surburb\n",
              " 117     Middle class\n",
              " 118    Leafy Surburb\n",
              " 119    Leafy Surburb\n",
              " Length: 120, dtype: object,\n",
              " 'H-levy': 0       5102.9\n",
              " 1      17730.9\n",
              " 2       8782.4\n",
              " 3      17375.6\n",
              " 4       9614.0\n",
              "         ...   \n",
              " 115    18422.8\n",
              " 116    19408.4\n",
              " 117     8874.8\n",
              " 118    20439.1\n",
              " 119    21679.9\n",
              " Length: 120, dtype: float64,\n",
              " 'H_garbage': 0       5352.9\n",
              " 1      17980.9\n",
              " 2       9032.4\n",
              " 3      17625.6\n",
              " 4       9864.0\n",
              "         ...   \n",
              " 115    18672.8\n",
              " 116    19658.4\n",
              " 117     9124.8\n",
              " 118    20689.1\n",
              " 119    21929.9\n",
              " Length: 120, dtype: float64}"
            ]
          },
          "metadata": {},
          "execution_count": 16
        }
      ]
    },
    {
      "cell_type": "code",
      "source": [
        "#Creating data frame\n",
        "moringa = pd.DataFrame(namings)\n",
        "moringa"
      ],
      "metadata": {
        "colab": {
          "base_uri": "https://localhost:8080/",
          "height": 423
        },
        "outputId": "570e246e-3823-4346-f3f4-e52b1e9a438a",
        "id": "Oj2X1oWkpk17"
      },
      "execution_count": 18,
      "outputs": [
        {
          "output_type": "execute_result",
          "data": {
            "text/plain": [
              "     h_prices   H_categories   H-levy  H_garbage\n",
              "0        4639    Lower class   5102.9     5352.9\n",
              "1       16119  Leafy Surburb  17730.9    17980.9\n",
              "2        7984   Middle class   8782.4     9032.4\n",
              "3       15796  Leafy Surburb  17375.6    17625.6\n",
              "4        8740   Middle class   9614.0     9864.0\n",
              "..        ...            ...      ...        ...\n",
              "115     16748  Leafy Surburb  18422.8    18672.8\n",
              "116     17644  Leafy Surburb  19408.4    19658.4\n",
              "117      8068   Middle class   8874.8     9124.8\n",
              "118     18581  Leafy Surburb  20439.1    20689.1\n",
              "119     19709  Leafy Surburb  21679.9    21929.9\n",
              "\n",
              "[120 rows x 4 columns]"
            ],
            "text/html": [
              "\n",
              "  <div id=\"df-56a447b5-313e-4472-83a8-5eb5f8bb4444\" class=\"colab-df-container\">\n",
              "    <div>\n",
              "<style scoped>\n",
              "    .dataframe tbody tr th:only-of-type {\n",
              "        vertical-align: middle;\n",
              "    }\n",
              "\n",
              "    .dataframe tbody tr th {\n",
              "        vertical-align: top;\n",
              "    }\n",
              "\n",
              "    .dataframe thead th {\n",
              "        text-align: right;\n",
              "    }\n",
              "</style>\n",
              "<table border=\"1\" class=\"dataframe\">\n",
              "  <thead>\n",
              "    <tr style=\"text-align: right;\">\n",
              "      <th></th>\n",
              "      <th>h_prices</th>\n",
              "      <th>H_categories</th>\n",
              "      <th>H-levy</th>\n",
              "      <th>H_garbage</th>\n",
              "    </tr>\n",
              "  </thead>\n",
              "  <tbody>\n",
              "    <tr>\n",
              "      <th>0</th>\n",
              "      <td>4639</td>\n",
              "      <td>Lower class</td>\n",
              "      <td>5102.9</td>\n",
              "      <td>5352.9</td>\n",
              "    </tr>\n",
              "    <tr>\n",
              "      <th>1</th>\n",
              "      <td>16119</td>\n",
              "      <td>Leafy Surburb</td>\n",
              "      <td>17730.9</td>\n",
              "      <td>17980.9</td>\n",
              "    </tr>\n",
              "    <tr>\n",
              "      <th>2</th>\n",
              "      <td>7984</td>\n",
              "      <td>Middle class</td>\n",
              "      <td>8782.4</td>\n",
              "      <td>9032.4</td>\n",
              "    </tr>\n",
              "    <tr>\n",
              "      <th>3</th>\n",
              "      <td>15796</td>\n",
              "      <td>Leafy Surburb</td>\n",
              "      <td>17375.6</td>\n",
              "      <td>17625.6</td>\n",
              "    </tr>\n",
              "    <tr>\n",
              "      <th>4</th>\n",
              "      <td>8740</td>\n",
              "      <td>Middle class</td>\n",
              "      <td>9614.0</td>\n",
              "      <td>9864.0</td>\n",
              "    </tr>\n",
              "    <tr>\n",
              "      <th>...</th>\n",
              "      <td>...</td>\n",
              "      <td>...</td>\n",
              "      <td>...</td>\n",
              "      <td>...</td>\n",
              "    </tr>\n",
              "    <tr>\n",
              "      <th>115</th>\n",
              "      <td>16748</td>\n",
              "      <td>Leafy Surburb</td>\n",
              "      <td>18422.8</td>\n",
              "      <td>18672.8</td>\n",
              "    </tr>\n",
              "    <tr>\n",
              "      <th>116</th>\n",
              "      <td>17644</td>\n",
              "      <td>Leafy Surburb</td>\n",
              "      <td>19408.4</td>\n",
              "      <td>19658.4</td>\n",
              "    </tr>\n",
              "    <tr>\n",
              "      <th>117</th>\n",
              "      <td>8068</td>\n",
              "      <td>Middle class</td>\n",
              "      <td>8874.8</td>\n",
              "      <td>9124.8</td>\n",
              "    </tr>\n",
              "    <tr>\n",
              "      <th>118</th>\n",
              "      <td>18581</td>\n",
              "      <td>Leafy Surburb</td>\n",
              "      <td>20439.1</td>\n",
              "      <td>20689.1</td>\n",
              "    </tr>\n",
              "    <tr>\n",
              "      <th>119</th>\n",
              "      <td>19709</td>\n",
              "      <td>Leafy Surburb</td>\n",
              "      <td>21679.9</td>\n",
              "      <td>21929.9</td>\n",
              "    </tr>\n",
              "  </tbody>\n",
              "</table>\n",
              "<p>120 rows × 4 columns</p>\n",
              "</div>\n",
              "    <div class=\"colab-df-buttons\">\n",
              "\n",
              "  <div class=\"colab-df-container\">\n",
              "    <button class=\"colab-df-convert\" onclick=\"convertToInteractive('df-56a447b5-313e-4472-83a8-5eb5f8bb4444')\"\n",
              "            title=\"Convert this dataframe to an interactive table.\"\n",
              "            style=\"display:none;\">\n",
              "\n",
              "  <svg xmlns=\"http://www.w3.org/2000/svg\" height=\"24px\" viewBox=\"0 -960 960 960\">\n",
              "    <path d=\"M120-120v-720h720v720H120Zm60-500h600v-160H180v160Zm220 220h160v-160H400v160Zm0 220h160v-160H400v160ZM180-400h160v-160H180v160Zm440 0h160v-160H620v160ZM180-180h160v-160H180v160Zm440 0h160v-160H620v160Z\"/>\n",
              "  </svg>\n",
              "    </button>\n",
              "\n",
              "  <style>\n",
              "    .colab-df-container {\n",
              "      display:flex;\n",
              "      gap: 12px;\n",
              "    }\n",
              "\n",
              "    .colab-df-convert {\n",
              "      background-color: #E8F0FE;\n",
              "      border: none;\n",
              "      border-radius: 50%;\n",
              "      cursor: pointer;\n",
              "      display: none;\n",
              "      fill: #1967D2;\n",
              "      height: 32px;\n",
              "      padding: 0 0 0 0;\n",
              "      width: 32px;\n",
              "    }\n",
              "\n",
              "    .colab-df-convert:hover {\n",
              "      background-color: #E2EBFA;\n",
              "      box-shadow: 0px 1px 2px rgba(60, 64, 67, 0.3), 0px 1px 3px 1px rgba(60, 64, 67, 0.15);\n",
              "      fill: #174EA6;\n",
              "    }\n",
              "\n",
              "    .colab-df-buttons div {\n",
              "      margin-bottom: 4px;\n",
              "    }\n",
              "\n",
              "    [theme=dark] .colab-df-convert {\n",
              "      background-color: #3B4455;\n",
              "      fill: #D2E3FC;\n",
              "    }\n",
              "\n",
              "    [theme=dark] .colab-df-convert:hover {\n",
              "      background-color: #434B5C;\n",
              "      box-shadow: 0px 1px 3px 1px rgba(0, 0, 0, 0.15);\n",
              "      filter: drop-shadow(0px 1px 2px rgba(0, 0, 0, 0.3));\n",
              "      fill: #FFFFFF;\n",
              "    }\n",
              "  </style>\n",
              "\n",
              "    <script>\n",
              "      const buttonEl =\n",
              "        document.querySelector('#df-56a447b5-313e-4472-83a8-5eb5f8bb4444 button.colab-df-convert');\n",
              "      buttonEl.style.display =\n",
              "        google.colab.kernel.accessAllowed ? 'block' : 'none';\n",
              "\n",
              "      async function convertToInteractive(key) {\n",
              "        const element = document.querySelector('#df-56a447b5-313e-4472-83a8-5eb5f8bb4444');\n",
              "        const dataTable =\n",
              "          await google.colab.kernel.invokeFunction('convertToInteractive',\n",
              "                                                    [key], {});\n",
              "        if (!dataTable) return;\n",
              "\n",
              "        const docLinkHtml = 'Like what you see? Visit the ' +\n",
              "          '<a target=\"_blank\" href=https://colab.research.google.com/notebooks/data_table.ipynb>data table notebook</a>'\n",
              "          + ' to learn more about interactive tables.';\n",
              "        element.innerHTML = '';\n",
              "        dataTable['output_type'] = 'display_data';\n",
              "        await google.colab.output.renderOutput(dataTable, element);\n",
              "        const docLink = document.createElement('div');\n",
              "        docLink.innerHTML = docLinkHtml;\n",
              "        element.appendChild(docLink);\n",
              "      }\n",
              "    </script>\n",
              "  </div>\n",
              "\n",
              "\n",
              "<div id=\"df-bbd2acc3-7594-473b-b45c-64349224637b\">\n",
              "  <button class=\"colab-df-quickchart\" onclick=\"quickchart('df-bbd2acc3-7594-473b-b45c-64349224637b')\"\n",
              "            title=\"Suggest charts.\"\n",
              "            style=\"display:none;\">\n",
              "\n",
              "<svg xmlns=\"http://www.w3.org/2000/svg\" height=\"24px\"viewBox=\"0 0 24 24\"\n",
              "     width=\"24px\">\n",
              "    <g>\n",
              "        <path d=\"M19 3H5c-1.1 0-2 .9-2 2v14c0 1.1.9 2 2 2h14c1.1 0 2-.9 2-2V5c0-1.1-.9-2-2-2zM9 17H7v-7h2v7zm4 0h-2V7h2v10zm4 0h-2v-4h2v4z\"/>\n",
              "    </g>\n",
              "</svg>\n",
              "  </button>\n",
              "\n",
              "<style>\n",
              "  .colab-df-quickchart {\n",
              "      --bg-color: #E8F0FE;\n",
              "      --fill-color: #1967D2;\n",
              "      --hover-bg-color: #E2EBFA;\n",
              "      --hover-fill-color: #174EA6;\n",
              "      --disabled-fill-color: #AAA;\n",
              "      --disabled-bg-color: #DDD;\n",
              "  }\n",
              "\n",
              "  [theme=dark] .colab-df-quickchart {\n",
              "      --bg-color: #3B4455;\n",
              "      --fill-color: #D2E3FC;\n",
              "      --hover-bg-color: #434B5C;\n",
              "      --hover-fill-color: #FFFFFF;\n",
              "      --disabled-bg-color: #3B4455;\n",
              "      --disabled-fill-color: #666;\n",
              "  }\n",
              "\n",
              "  .colab-df-quickchart {\n",
              "    background-color: var(--bg-color);\n",
              "    border: none;\n",
              "    border-radius: 50%;\n",
              "    cursor: pointer;\n",
              "    display: none;\n",
              "    fill: var(--fill-color);\n",
              "    height: 32px;\n",
              "    padding: 0;\n",
              "    width: 32px;\n",
              "  }\n",
              "\n",
              "  .colab-df-quickchart:hover {\n",
              "    background-color: var(--hover-bg-color);\n",
              "    box-shadow: 0 1px 2px rgba(60, 64, 67, 0.3), 0 1px 3px 1px rgba(60, 64, 67, 0.15);\n",
              "    fill: var(--button-hover-fill-color);\n",
              "  }\n",
              "\n",
              "  .colab-df-quickchart-complete:disabled,\n",
              "  .colab-df-quickchart-complete:disabled:hover {\n",
              "    background-color: var(--disabled-bg-color);\n",
              "    fill: var(--disabled-fill-color);\n",
              "    box-shadow: none;\n",
              "  }\n",
              "\n",
              "  .colab-df-spinner {\n",
              "    border: 2px solid var(--fill-color);\n",
              "    border-color: transparent;\n",
              "    border-bottom-color: var(--fill-color);\n",
              "    animation:\n",
              "      spin 1s steps(1) infinite;\n",
              "  }\n",
              "\n",
              "  @keyframes spin {\n",
              "    0% {\n",
              "      border-color: transparent;\n",
              "      border-bottom-color: var(--fill-color);\n",
              "      border-left-color: var(--fill-color);\n",
              "    }\n",
              "    20% {\n",
              "      border-color: transparent;\n",
              "      border-left-color: var(--fill-color);\n",
              "      border-top-color: var(--fill-color);\n",
              "    }\n",
              "    30% {\n",
              "      border-color: transparent;\n",
              "      border-left-color: var(--fill-color);\n",
              "      border-top-color: var(--fill-color);\n",
              "      border-right-color: var(--fill-color);\n",
              "    }\n",
              "    40% {\n",
              "      border-color: transparent;\n",
              "      border-right-color: var(--fill-color);\n",
              "      border-top-color: var(--fill-color);\n",
              "    }\n",
              "    60% {\n",
              "      border-color: transparent;\n",
              "      border-right-color: var(--fill-color);\n",
              "    }\n",
              "    80% {\n",
              "      border-color: transparent;\n",
              "      border-right-color: var(--fill-color);\n",
              "      border-bottom-color: var(--fill-color);\n",
              "    }\n",
              "    90% {\n",
              "      border-color: transparent;\n",
              "      border-bottom-color: var(--fill-color);\n",
              "    }\n",
              "  }\n",
              "</style>\n",
              "\n",
              "  <script>\n",
              "    async function quickchart(key) {\n",
              "      const quickchartButtonEl =\n",
              "        document.querySelector('#' + key + ' button');\n",
              "      quickchartButtonEl.disabled = true;  // To prevent multiple clicks.\n",
              "      quickchartButtonEl.classList.add('colab-df-spinner');\n",
              "      try {\n",
              "        const charts = await google.colab.kernel.invokeFunction(\n",
              "            'suggestCharts', [key], {});\n",
              "      } catch (error) {\n",
              "        console.error('Error during call to suggestCharts:', error);\n",
              "      }\n",
              "      quickchartButtonEl.classList.remove('colab-df-spinner');\n",
              "      quickchartButtonEl.classList.add('colab-df-quickchart-complete');\n",
              "    }\n",
              "    (() => {\n",
              "      let quickchartButtonEl =\n",
              "        document.querySelector('#df-bbd2acc3-7594-473b-b45c-64349224637b button');\n",
              "      quickchartButtonEl.style.display =\n",
              "        google.colab.kernel.accessAllowed ? 'block' : 'none';\n",
              "    })();\n",
              "  </script>\n",
              "</div>\n",
              "    </div>\n",
              "  </div>\n"
            ]
          },
          "metadata": {},
          "execution_count": 18
        }
      ]
    }
  ]
}